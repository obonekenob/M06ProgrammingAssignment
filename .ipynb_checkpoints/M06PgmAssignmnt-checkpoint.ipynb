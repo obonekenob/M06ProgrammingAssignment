{
 "cells": [
  {
   "cell_type": "code",
   "execution_count": 8,
   "id": "8932344c",
   "metadata": {},
   "outputs": [
    {
     "name": "stdout",
     "output_type": "stream",
     "text": [
      "now_str  2023-04-12  written to file today.txt\n"
     ]
    },
    {
     "data": {
      "text/plain": [
       "' \\n    After running the program, the today.txt file contained:\\n    2023-04-12\\n'"
      ]
     },
     "execution_count": 8,
     "metadata": {},
     "output_type": "execute_result"
    }
   ],
   "source": [
    "\"\"\" SDEV220\n",
    "    Paul R Thompson\n",
    "    Chapter 13 Exercise 1 (13.1)\n",
    "\"\"\"\n",
    "from datetime import date\n",
    "now = date.today()\n",
    "now_str = now.isoformat()\n",
    "with open('today.txt', 'wt') as output:\n",
    "    print(now_str, file=output)\n",
    "    \n",
    "print('now_str ', now_str, ' written to file today.txt')\n",
    "\n",
    "\"\"\" \n",
    "    After running the program, the today.txt file contained:\n",
    "    2023-04-12\n",
    "\"\"\"\n"
   ]
  },
  {
   "cell_type": "code",
   "execution_count": 6,
   "id": "97908996",
   "metadata": {},
   "outputs": [
    {
     "name": "stdout",
     "output_type": "stream",
     "text": [
      "today_string from file is: 2023-04-12\n",
      "\n"
     ]
    }
   ],
   "source": [
    "\"\"\" SDEV220\n",
    "    Paul R Thompson\n",
    "    Chapter 13 Exercise 2 (13.2)\n",
    "\"\"\"\n",
    "\n",
    "with open('today.txt', 'rt') as input:\n",
    "    today_string = input.read()\n",
    "    \n",
    "\"\"\"  \n",
    "    After runniing the code:\n",
    "\"\"\"\n",
    "print('today_string from file is:', today_string)\n",
    "    "
   ]
  },
  {
   "cell_type": "code",
   "execution_count": 14,
   "id": "2234d70c",
   "metadata": {},
   "outputs": [
    {
     "data": {
      "text/plain": [
       "time.struct_time(tm_year=2023, tm_mon=4, tm_mday=12, tm_hour=0, tm_min=0, tm_sec=0, tm_wday=2, tm_yday=102, tm_isdst=-1)"
      ]
     },
     "execution_count": 14,
     "metadata": {},
     "output_type": "execute_result"
    }
   ],
   "source": [
    "\"\"\" SDEV220\n",
    "    Paul R Thompson\n",
    "    Chapter 13 Exercise 3 (13.3)\n",
    "\"\"\"\n",
    "fmt = '%Y-%m-%d\\n'\n",
    "time.strptime(today_string, fmt)\n"
   ]
  },
  {
   "cell_type": "code",
   "execution_count": 3,
   "id": "f1a89b81",
   "metadata": {},
   "outputs": [],
   "source": [
    "\"\"\" SDEV220\n",
    "    Paul R Thompson\n",
    "    Chapter 15 Exercise 1 (15.1)\n",
    "\"\"\"\n",
    "\n",
    "import multiprocessing\n",
    "\n",
    "def now(seconds):\n",
    "    from datetime import datetime\n",
    "    from time import sleep\n",
    "    sleep(seconds)\n",
    "    print('wait', seconds, 'seconds, time is', datetime.utcnow())\n",
    "\n",
    "if __name__ == '__main__':\n",
    "    import random\n",
    "    for n in range(3):\n",
    "        seconds = random.random()\n",
    "        proc = multiprocessing.Process(target=now, args=(seconds,))\n",
    "        proc.start()"
   ]
  },
  {
   "cell_type": "code",
   "execution_count": null,
   "id": "3efa9e69",
   "metadata": {},
   "outputs": [],
   "source": []
  },
  {
   "cell_type": "code",
   "execution_count": null,
   "id": "d00a9434",
   "metadata": {},
   "outputs": [],
   "source": []
  }
 ],
 "metadata": {
  "kernelspec": {
   "display_name": "Python 3 (ipykernel)",
   "language": "python",
   "name": "python3"
  },
  "language_info": {
   "codemirror_mode": {
    "name": "ipython",
    "version": 3
   },
   "file_extension": ".py",
   "mimetype": "text/x-python",
   "name": "python",
   "nbconvert_exporter": "python",
   "pygments_lexer": "ipython3",
   "version": "3.9.13"
  }
 },
 "nbformat": 4,
 "nbformat_minor": 5
}
